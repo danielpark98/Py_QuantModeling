{
 "cells": [
  {
   "cell_type": "code",
   "execution_count": 1,
   "metadata": {},
   "outputs": [],
   "source": [
    "import yfinance as yf\n",
    "import pandas as pd\n",
    "import numpy as np\n",
    "import matplotlib.pyplot as plt\n",
    "import matplotlib.dates as mdates\n",
    "import datetime as dt\n",
    "import seaborn as sns   \n",
    "import scipy.optimize as sco\n"
   ]
  },
  {
   "cell_type": "code",
   "execution_count": 78,
   "metadata": {},
   "outputs": [
    {
     "name": "stdout",
     "output_type": "stream",
     "text": [
      "[*********************100%%**********************]  9 of 9 completed\n"
     ]
    },
    {
     "data": {
      "text/html": [
       "<div>\n",
       "<style scoped>\n",
       "    .dataframe tbody tr th:only-of-type {\n",
       "        vertical-align: middle;\n",
       "    }\n",
       "\n",
       "    .dataframe tbody tr th {\n",
       "        vertical-align: top;\n",
       "    }\n",
       "\n",
       "    .dataframe thead th {\n",
       "        text-align: right;\n",
       "    }\n",
       "</style>\n",
       "<table border=\"1\" class=\"dataframe\">\n",
       "  <thead>\n",
       "    <tr style=\"text-align: right;\">\n",
       "      <th></th>\n",
       "      <th>XLB</th>\n",
       "      <th>XLE</th>\n",
       "      <th>XLF</th>\n",
       "      <th>XLI</th>\n",
       "      <th>XLK</th>\n",
       "      <th>XLP</th>\n",
       "      <th>XLU</th>\n",
       "      <th>XLV</th>\n",
       "      <th>XLY</th>\n",
       "    </tr>\n",
       "    <tr>\n",
       "      <th>Date</th>\n",
       "      <th></th>\n",
       "      <th></th>\n",
       "      <th></th>\n",
       "      <th></th>\n",
       "      <th></th>\n",
       "      <th></th>\n",
       "      <th></th>\n",
       "      <th></th>\n",
       "      <th></th>\n",
       "    </tr>\n",
       "  </thead>\n",
       "  <tbody>\n",
       "    <tr>\n",
       "      <th>2020-12-24</th>\n",
       "      <td>67.295563</td>\n",
       "      <td>33.691654</td>\n",
       "      <td>27.345427</td>\n",
       "      <td>83.870201</td>\n",
       "      <td>125.748032</td>\n",
       "      <td>61.792694</td>\n",
       "      <td>55.780853</td>\n",
       "      <td>106.385071</td>\n",
       "      <td>154.235489</td>\n",
       "    </tr>\n",
       "    <tr>\n",
       "      <th>2020-12-28</th>\n",
       "      <td>67.032310</td>\n",
       "      <td>33.479530</td>\n",
       "      <td>27.477667</td>\n",
       "      <td>83.975044</td>\n",
       "      <td>127.170586</td>\n",
       "      <td>62.283558</td>\n",
       "      <td>56.026905</td>\n",
       "      <td>106.652290</td>\n",
       "      <td>155.993912</td>\n",
       "    </tr>\n",
       "    <tr>\n",
       "      <th>2020-12-29</th>\n",
       "      <td>66.872482</td>\n",
       "      <td>33.258568</td>\n",
       "      <td>27.383211</td>\n",
       "      <td>83.469917</td>\n",
       "      <td>126.566483</td>\n",
       "      <td>62.098324</td>\n",
       "      <td>56.017792</td>\n",
       "      <td>107.158119</td>\n",
       "      <td>156.042740</td>\n",
       "    </tr>\n",
       "    <tr>\n",
       "      <th>2020-12-30</th>\n",
       "      <td>67.793854</td>\n",
       "      <td>33.780029</td>\n",
       "      <td>27.506004</td>\n",
       "      <td>84.003639</td>\n",
       "      <td>126.498291</td>\n",
       "      <td>62.033497</td>\n",
       "      <td>56.300297</td>\n",
       "      <td>107.139046</td>\n",
       "      <td>156.980621</td>\n",
       "    </tr>\n",
       "    <tr>\n",
       "      <th>2020-12-31</th>\n",
       "      <td>68.057076</td>\n",
       "      <td>33.497204</td>\n",
       "      <td>27.846050</td>\n",
       "      <td>84.394394</td>\n",
       "      <td>126.683403</td>\n",
       "      <td>62.468765</td>\n",
       "      <td>57.138699</td>\n",
       "      <td>108.265213</td>\n",
       "      <td>157.068497</td>\n",
       "    </tr>\n",
       "  </tbody>\n",
       "</table>\n",
       "</div>"
      ],
      "text/plain": [
       "                  XLB        XLE        XLF        XLI         XLK        XLP  \\\n",
       "Date                                                                            \n",
       "2020-12-24  67.295563  33.691654  27.345427  83.870201  125.748032  61.792694   \n",
       "2020-12-28  67.032310  33.479530  27.477667  83.975044  127.170586  62.283558   \n",
       "2020-12-29  66.872482  33.258568  27.383211  83.469917  126.566483  62.098324   \n",
       "2020-12-30  67.793854  33.780029  27.506004  84.003639  126.498291  62.033497   \n",
       "2020-12-31  68.057076  33.497204  27.846050  84.394394  126.683403  62.468765   \n",
       "\n",
       "                  XLU         XLV         XLY  \n",
       "Date                                           \n",
       "2020-12-24  55.780853  106.385071  154.235489  \n",
       "2020-12-28  56.026905  106.652290  155.993912  \n",
       "2020-12-29  56.017792  107.158119  156.042740  \n",
       "2020-12-30  56.300297  107.139046  156.980621  \n",
       "2020-12-31  57.138699  108.265213  157.068497  "
      ]
     },
     "execution_count": 78,
     "metadata": {},
     "output_type": "execute_result"
    }
   ],
   "source": [
    "#ticker list = XLB, XLE, XLF, XLI, XLK, XLP, XLU, XLV, XLY\n",
    "tickers = ['XLB', 'XLE', 'XLF', 'XLI', 'XLK', 'XLP', 'XLU', 'XLV', 'XLY']\n",
    "etf = yf.Tickers(tickers)\n",
    "#download etf data start= 2011-01-01 and actions =False to remove dividends\n",
    "etf_hist = etf.history(start='2015-01-01', end = '2021-01-01', actions=False)\n",
    "#keep Close column\n",
    "etf_close = etf_hist['Close']\n",
    "etf_close.tail()"
   ]
  },
  {
   "cell_type": "code",
   "execution_count": 79,
   "metadata": {},
   "outputs": [],
   "source": [
    "#return calculation\n",
    "etf_return = etf_close.pct_change().fillna(0)\n",
    "ret_vec = etf_return.mean() * 252\n",
    "cov_mat = etf_return.cov()  * 252"
   ]
  },
  {
   "cell_type": "code",
   "execution_count": 80,
   "metadata": {},
   "outputs": [],
   "source": [
    "#defining efficinet frontier resampling function\n",
    "def resampled_efficient_frontier(rv, covmat , size =252, N_path = 50, N_point = 50, resampling =True):\n",
    "    #number of assets\n",
    "    n_assets = len(rv)\n",
    "    if resampling: \n",
    "        #simulation for resampling\n",
    "        ret_vec_stack = np.zeros((N_path, len(rv)))\n",
    "        covmat_stack = np.zeros((N_path, len(rv), len(rv)))\n",
    "        \n",
    "        #create path for resampling\n",
    "        for i in range(N_path):\n",
    "            #random number from multivariate normal distribution\n",
    "            randn = np.random.multivariate_normal(rv, covmat, size)\n",
    "            #new return vector\n",
    "            ret_vec_i  = randn.mean(axis=0)\n",
    "            ret_vec_stack[i,:] = ret_vec_i\n",
    "            #new covariance matrix\n",
    "            covmat_i = np.cov(randn.T)\n",
    "            covmat_stack[i,:,:] = covmat_i\n",
    "        \n",
    "        #newly updated return vector and covariance matrix    \n",
    "        new_ret_vec = ret_vec_stack.mean(axis=0)\n",
    "        new_covmat = covmat_stack.mean(axis=0)\n",
    "    else:\n",
    "        new_ret_vec = rv\n",
    "        new_covmat = covmat\n",
    "        \n",
    "    #objective funciton for optimization    \n",
    "    def obj_function(weights):\n",
    "        weights = np.array(weights)\n",
    "        #investment vol\n",
    "        pvol = np.sqrt(np.dot(weights.T, np.dot(new_covmat, weights)))\n",
    "        return pvol\n",
    "    \n",
    "    #perform portfolio optimization for each level of return\n",
    "    trets = np.linspace(0.1, 0.2, N_path)\n",
    "    tvols = []\n",
    "    weights = np.random.random(n_assets)\n",
    "    weights /= np.sum(weights)\n",
    "    \n",
    "        \n",
    "    for tret in trets:\n",
    "        #initialie weight vector = equal weight\n",
    "        init_guess = np.repeat(1/n_assets, n_assets)\n",
    "        #constraints for optimization\n",
    "        cons = ({'type': 'eq', 'fun': lambda x: np.sum(x) - 1},\n",
    "                {'type': 'eq', 'fun': lambda x: np.sum(x * new_ret_vec) - tret})\n",
    "        #bounds for optimization for each assets (no short selling)\n",
    "        #bnds based on weights \n",
    "        bnds = tuple((0,1) for x in weights)\n",
    "        #optimization\n",
    "        res = sco.minimize(obj_function, init_guess, method='SLSQP', bounds=bnds, constraints=cons)\n",
    "        #append portfolio vol that meets the target retun that fits the voliatlity\n",
    "        tvols.append(res['fun'])\n",
    "    #convert vol likst to array\n",
    "    tvols = np.array(tvols)\n",
    "    #return efficient frontier\n",
    "    return tvols, trets\n"
   ]
  },
  {
   "cell_type": "code",
   "execution_count": 81,
   "metadata": {},
   "outputs": [],
   "source": [
    "#resampling efficient frontier 0 = no resampling, 1 = resampling\n",
    "new_trets, new_tvols = resampled_efficient_frontier(ret_vec, cov_mat, resampling=True)\n",
    "#efficient frontier without resampling\n",
    "trets, tvols = resampled_efficient_frontier(ret_vec, cov_mat, resampling=False)"
   ]
  },
  {
   "cell_type": "code",
   "execution_count": 88,
   "metadata": {},
   "outputs": [
    {
     "data": {
      "text/plain": [
       "[<matplotlib.lines.Line2D at 0x13ed2c4ad90>]"
      ]
     },
     "execution_count": 88,
     "metadata": {},
     "output_type": "execute_result"
    },
    {
     "data": {
      "image/png": "[encoded data removed]",
      "text/plain": [
       "<Figure size 1000x600 with 1 Axes>"
      ]
     },
     "metadata": {},
     "output_type": "display_data"
    }
   ],
   "source": [
    "#resmpaling efficient frontier plot\n",
    "plt.figure(figsize=(10,6))\n",
    "plt.plot(trets, tvols, marker='x', label='Original')\n",
    "plt.plot(new_trets, new_tvols, marker='o', label='Resampled')\n",
    "\n",
    "#파란색이 원래 efficient frontier, 주황색이 resampling efficient frontier\n",
    "#resmapling 하는 이유: 원래 과거 데이터에 대한 확신이 없을때 , \n",
    "#샘플링기법을 통해서 확인해보는 것 "
   ]
  }
 ],
 "metadata": {
  "kernelspec": {
   "display_name": "base",
   "language": "python",
   "name": "python3"
  },
  "language_info": {
   "codemirror_mode": {
    "name": "ipython",
    "version": 3
   },
   "file_extension": ".py",
   "mimetype": "text/x-python",
   "name": "python",
   "nbconvert_exporter": "python",
   "pygments_lexer": "ipython3",
   "version": "3.11.5"
  }
 },
 "nbformat": 4,
 "nbformat_minor": 2
}
